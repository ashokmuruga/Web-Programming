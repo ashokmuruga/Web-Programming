{
  "nbformat": 4,
  "nbformat_minor": 0,
  "metadata": {
    "colab": {
      "name": "PyXML.ipynb",
      "provenance": [],
      "collapsed_sections": [],
      "authorship_tag": "ABX9TyMGyuCVhNlBLgCEV7CS55bA",
      "include_colab_link": true
    },
    "kernelspec": {
      "name": "python3",
      "display_name": "Python 3"
    }
  },
  "cells": [
    {
      "cell_type": "markdown",
      "metadata": {
        "id": "view-in-github",
        "colab_type": "text"
      },
      "source": [
        "<a href=\"https://colab.research.google.com/github/ashokmuruga/Web-Programming/blob/master/PyXML.ipynb\" target=\"_parent\"><img src=\"https://colab.research.google.com/assets/colab-badge.svg\" alt=\"Open In Colab\"/></a>"
      ]
    },
    {
      "cell_type": "code",
      "metadata": {
        "id": "4N4wIZn5_78L",
        "colab_type": "code",
        "colab": {
          "base_uri": "https://localhost:8080/",
          "height": 563
        },
        "outputId": "4ed9b862-ab08-4ca8-e905-f1d616b52f55"
      },
      "source": [
        "import xml.sax\n",
        "\n",
        "class MovieHandler( xml.sax.ContentHandler ):\n",
        "   def __init__(self):\n",
        "      self.CurrentData = \"\"\n",
        "      self.type = \"\"\n",
        "      self.format = \"\"\n",
        "      self.year = \"\"\n",
        "      self.rating = \"\"\n",
        "      self.stars = \"\"\n",
        "      self.description = \"\"\n",
        "\n",
        "   # Call when an element starts\n",
        "   def startElement(self, tag, attributes):\n",
        "      self.CurrentData = tag\n",
        "      if tag == \"movie\":\n",
        "         print (\"*****Movie*****\")\n",
        "         title = attributes[\"title\"]\n",
        "         print (\"Title:\", title)\n",
        "\n",
        "   # Call when an elements ends\n",
        "   def endElement(self, tag):\n",
        "      if self.CurrentData == \"type\":\n",
        "         print (\"Type:\", self.type)\n",
        "      elif self.CurrentData == \"format\":\n",
        "         print (\"Format:\", self.format)\n",
        "      elif self.CurrentData == \"year\":\n",
        "         print (\"Year:\", self.year)\n",
        "      elif self.CurrentData == \"rating\":\n",
        "         print (\"Rating:\", self.rating)\n",
        "      elif self.CurrentData == \"stars\":\n",
        "         print (\"Stars:\", self.stars)\n",
        "      elif self.CurrentData == \"description\":\n",
        "         print (\"Description:\", self.description)\n",
        "      self.CurrentData = \"\"\n",
        "\n",
        "   # Call when a character is read\n",
        "   def characters(self, content):\n",
        "      if self.CurrentData == \"type\":\n",
        "         self.type = content\n",
        "      elif self.CurrentData == \"format\":\n",
        "         self.format = content\n",
        "      elif self.CurrentData == \"year\":\n",
        "         self.year = content\n",
        "      elif self.CurrentData == \"rating\":\n",
        "         self.rating = content\n",
        "      elif self.CurrentData == \"stars\":\n",
        "         self.stars = content\n",
        "      elif self.CurrentData == \"description\":\n",
        "         self.description = content\n",
        "  \n",
        "if ( __name__ == \"__main__\"):\n",
        "   \n",
        "   # create an XMLReader\n",
        "   parser = xml.sax.make_parser()\n",
        "   # turn off namepsaces\n",
        "   parser.setFeature(xml.sax.handler.feature_namespaces, 0)\n",
        "\n",
        "   # override the default ContextHandler\n",
        "   Handler = MovieHandler()\n",
        "   parser.setContentHandler( Handler )\n",
        "   \n",
        "   parser.parse(\"/content/movies.xml\")"
      ],
      "execution_count": 2,
      "outputs": [
        {
          "output_type": "stream",
          "text": [
            "*****Movie*****\n",
            "Title: Enemy Behind\n",
            "Type: War, Thriller\n",
            "Format: DVD\n",
            "Year: 2003\n",
            "Rating: PG\n",
            "Stars: 10\n",
            "Description: Talk about a US-Japan war\n",
            "*****Movie*****\n",
            "Title: Transformers\n",
            "Type: Anime, Science Fiction\n",
            "Format: DVD\n",
            "Year: 1989\n",
            "Rating: R\n",
            "Stars: 8\n",
            "Description: A schientific fiction\n",
            "*****Movie*****\n",
            "Title: Trigun\n",
            "Type: Anime, Action\n",
            "Format: DVD\n",
            "Rating: PG\n",
            "Stars: 10\n",
            "Description: Vash the Stampede!\n",
            "*****Movie*****\n",
            "Title: Ishtar\n",
            "Type: Comedy\n",
            "Format: VHS\n",
            "Rating: PG\n",
            "Stars: 2\n",
            "Description: Viewable boredom\n"
          ],
          "name": "stdout"
        }
      ]
    },
    {
      "cell_type": "code",
      "metadata": {
        "id": "tJQBbZTAwEmH",
        "colab_type": "code",
        "colab": {
          "base_uri": "https://localhost:8080/",
          "height": 35
        },
        "outputId": "c44bd4ca-8d01-48b5-efaf-d1afad2450ea"
      },
      "source": [
        "import json\n",
        "\n",
        "with open('/content/Person.json') as f:\n",
        "  data = json.load(f)\n",
        "\n",
        "print(data)"
      ],
      "execution_count": 3,
      "outputs": [
        {
          "output_type": "stream",
          "text": [
            "{'name': 'Bob', 'languages': ['English', 'Fench']}\n"
          ],
          "name": "stdout"
        }
      ]
    },
    {
      "cell_type": "code",
      "metadata": {
        "id": "tDmTug2pxgKd",
        "colab_type": "code",
        "colab": {}
      },
      "source": [
        "# Program to convert an xml \n",
        "# file to json file \n",
        "\n",
        "# import json module and xmltodict \n",
        "# module provided by python \n",
        "import json \n",
        "import xmltodict \n",
        "\n",
        "\n",
        "# open the input xml file and read \n",
        "# data in form of python dictionary \n",
        "# using xmltodict module \n",
        "with open(\"movies.xml\") as xml_file: \n",
        "\t\n",
        "\tdata_dict = xmltodict.parse(xml_file.read()) \n",
        "\txml_file.close() \n",
        "\t\n",
        "\t# generate the object using json.dumps() \n",
        "\t# corresponding to json data \n",
        "\t\n",
        "\tjson_data = json.dumps(data_dict) \n",
        "\t\n",
        "\t# Write the json data to output \n",
        "\t# json file \n",
        "\twith open(\"data.json\", \"w\") as json_file: \n",
        "\t\tjson_file.write(json_data) \n",
        "\t\tjson_file.close() \n"
      ],
      "execution_count": 6,
      "outputs": []
    },
    {
      "cell_type": "code",
      "metadata": {
        "id": "fSAdSgK0xu-2",
        "colab_type": "code",
        "colab": {
          "base_uri": "https://localhost:8080/",
          "height": 110
        },
        "outputId": "7c6bedea-285a-425d-b82e-8cacc2ac40d2"
      },
      "source": [
        "!pip install xmltodict"
      ],
      "execution_count": 5,
      "outputs": [
        {
          "output_type": "stream",
          "text": [
            "Collecting xmltodict\n",
            "  Downloading https://files.pythonhosted.org/packages/28/fd/30d5c1d3ac29ce229f6bdc40bbc20b28f716e8b363140c26eff19122d8a5/xmltodict-0.12.0-py2.py3-none-any.whl\n",
            "Installing collected packages: xmltodict\n",
            "Successfully installed xmltodict-0.12.0\n"
          ],
          "name": "stdout"
        }
      ]
    },
    {
      "cell_type": "code",
      "metadata": {
        "id": "r_Zo188Z0yVY",
        "colab_type": "code",
        "colab": {}
      },
      "source": [
        "import json as j\n",
        "\n",
        "with open(\"/content/two.json\") as json_format_file: \n",
        "  d = j.load(json_format_file)\n",
        "\n",
        "import xml.etree.cElementTree as e\n",
        "\n",
        "r = e.Element(\"Employee\")\n",
        "\n",
        "e.SubElement(r,\"Name\").text = d[\"Name\"]\n",
        "\n",
        "e.SubElement(r,\"Designation\").text = d[\"Designation\"]\n",
        "\n",
        "e.SubElement(r,\"Salary\").text = str(d[\"Salary\"])\n",
        "\n",
        "e.SubElement(r,\"Age\").text = str(d[\"Age\"])\n",
        "\n",
        "project = e.SubElement(r,\"Projects\")\n",
        "\n",
        "for z in d[\"Projects\"]:\n",
        "  e.SubElement(project,\"Topic\").text = z[\"Topic\"]\n",
        "  e.SubElement(project,\"Category\").text = z[\"Category\"]\n",
        "  e.SubElement(project,\"Months\").text = str(z[\"Months\"])\n",
        "\n",
        "\n",
        "a = e.ElementTree(r)\n",
        "\n",
        "a.write(\"json_to_xml.xml\")"
      ],
      "execution_count": 7,
      "outputs": []
    }
  ]
}