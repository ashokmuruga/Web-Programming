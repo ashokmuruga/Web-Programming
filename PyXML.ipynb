{
  "nbformat": 4,
  "nbformat_minor": 0,
  "metadata": {
    "colab": {
      "name": "PyXML.ipynb",
      "provenance": [],
      "collapsed_sections": [],
      "authorship_tag": "ABX9TyNJRQSi9Yj66BHYWz+yMmaH",
      "include_colab_link": true
    },
    "kernelspec": {
      "name": "python3",
      "display_name": "Python 3"
    }
  },
  "cells": [
    {
      "cell_type": "markdown",
      "metadata": {
        "id": "view-in-github",
        "colab_type": "text"
      },
      "source": [
        "<a href=\"https://colab.research.google.com/github/ashokmuruga/Web-Programming/blob/master/PyXML.ipynb\" target=\"_parent\"><img src=\"https://colab.research.google.com/assets/colab-badge.svg\" alt=\"Open In Colab\"/></a>"
      ]
    },
    {
      "cell_type": "code",
      "metadata": {
        "id": "4N4wIZn5_78L",
        "colab_type": "code",
        "colab": {
          "base_uri": "https://localhost:8080/",
          "height": 563
        },
        "outputId": "4ed9b862-ab08-4ca8-e905-f1d616b52f55"
      },
      "source": [
        "import xml.sax\n",
        "\n",
        "class MovieHandler( xml.sax.ContentHandler ):\n",
        "   def __init__(self):\n",
        "      self.CurrentData = \"\"\n",
        "      self.type = \"\"\n",
        "      self.format = \"\"\n",
        "      self.year = \"\"\n",
        "      self.rating = \"\"\n",
        "      self.stars = \"\"\n",
        "      self.description = \"\"\n",
        "\n",
        "   # Call when an element starts\n",
        "   def startElement(self, tag, attributes):\n",
        "      self.CurrentData = tag\n",
        "      if tag == \"movie\":\n",
        "         print (\"*****Movie*****\")\n",
        "         title = attributes[\"title\"]\n",
        "         print (\"Title:\", title)\n",
        "\n",
        "   # Call when an elements ends\n",
        "   def endElement(self, tag):\n",
        "      if self.CurrentData == \"type\":\n",
        "         print (\"Type:\", self.type)\n",
        "      elif self.CurrentData == \"format\":\n",
        "         print (\"Format:\", self.format)\n",
        "      elif self.CurrentData == \"year\":\n",
        "         print (\"Year:\", self.year)\n",
        "      elif self.CurrentData == \"rating\":\n",
        "         print (\"Rating:\", self.rating)\n",
        "      elif self.CurrentData == \"stars\":\n",
        "         print (\"Stars:\", self.stars)\n",
        "      elif self.CurrentData == \"description\":\n",
        "         print (\"Description:\", self.description)\n",
        "      self.CurrentData = \"\"\n",
        "\n",
        "   # Call when a character is read\n",
        "   def characters(self, content):\n",
        "      if self.CurrentData == \"type\":\n",
        "         self.type = content\n",
        "      elif self.CurrentData == \"format\":\n",
        "         self.format = content\n",
        "      elif self.CurrentData == \"year\":\n",
        "         self.year = content\n",
        "      elif self.CurrentData == \"rating\":\n",
        "         self.rating = content\n",
        "      elif self.CurrentData == \"stars\":\n",
        "         self.stars = content\n",
        "      elif self.CurrentData == \"description\":\n",
        "         self.description = content\n",
        "  \n",
        "if ( __name__ == \"__main__\"):\n",
        "   \n",
        "   # create an XMLReader\n",
        "   parser = xml.sax.make_parser()\n",
        "   # turn off namepsaces\n",
        "   parser.setFeature(xml.sax.handler.feature_namespaces, 0)\n",
        "\n",
        "   # override the default ContextHandler\n",
        "   Handler = MovieHandler()\n",
        "   parser.setContentHandler( Handler )\n",
        "   \n",
        "   parser.parse(\"/content/movies.xml\")"
      ],
      "execution_count": 2,
      "outputs": [
        {
          "output_type": "stream",
          "text": [
            "*****Movie*****\n",
            "Title: Enemy Behind\n",
            "Type: War, Thriller\n",
            "Format: DVD\n",
            "Year: 2003\n",
            "Rating: PG\n",
            "Stars: 10\n",
            "Description: Talk about a US-Japan war\n",
            "*****Movie*****\n",
            "Title: Transformers\n",
            "Type: Anime, Science Fiction\n",
            "Format: DVD\n",
            "Year: 1989\n",
            "Rating: R\n",
            "Stars: 8\n",
            "Description: A schientific fiction\n",
            "*****Movie*****\n",
            "Title: Trigun\n",
            "Type: Anime, Action\n",
            "Format: DVD\n",
            "Rating: PG\n",
            "Stars: 10\n",
            "Description: Vash the Stampede!\n",
            "*****Movie*****\n",
            "Title: Ishtar\n",
            "Type: Comedy\n",
            "Format: VHS\n",
            "Rating: PG\n",
            "Stars: 2\n",
            "Description: Viewable boredom\n"
          ],
          "name": "stdout"
        }
      ]
    },
    {
      "cell_type": "code",
      "metadata": {
        "id": "tJQBbZTAwEmH",
        "colab_type": "code",
        "colab": {
          "base_uri": "https://localhost:8080/",
          "height": 35
        },
        "outputId": "c44bd4ca-8d01-48b5-efaf-d1afad2450ea"
      },
      "source": [
        "import json\n",
        "\n",
        "with open('/content/Person.json') as f:\n",
        "  data = json.load(f)\n",
        "\n",
        "print(data)"
      ],
      "execution_count": 3,
      "outputs": [
        {
          "output_type": "stream",
          "text": [
            "{'name': 'Bob', 'languages': ['English', 'Fench']}\n"
          ],
          "name": "stdout"
        }
      ]
    }
  ]
}